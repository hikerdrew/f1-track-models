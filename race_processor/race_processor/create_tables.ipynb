{
 "cells": [
  {
   "cell_type": "code",
   "execution_count": 1,
   "metadata": {},
   "outputs": [],
   "source": [
    "import psycopg2\n",
    "from psycopg2.extensions import ISOLATION_LEVEL_AUTOCOMMIT\n",
    "from jupyter import REPO_ROOT"
   ]
  },
  {
   "cell_type": "code",
   "execution_count": 2,
   "metadata": {},
   "outputs": [],
   "source": [
    "conn = psycopg2.connect(\n",
    "    database=\"ergast_f1_stats\",\n",
    "    user='postgres',\n",
    "    password='password',\n",
    "    host='localhost',\n",
    "    port= '5432'\n",
    ")\n",
    "conn.set_isolation_level(ISOLATION_LEVEL_AUTOCOMMIT)"
   ]
  },
  {
   "cell_type": "code",
   "execution_count": 37,
   "metadata": {},
   "outputs": [],
   "source": [
    "TABLES = [\"seasons\", \"circuits\", \"constructors\", \"races\", \"drivers\", \"status\", \"constructor_results\", \"constructor_standings\", \"lap_times\", \"pit_stops\", \"qualifying\", \"results\", \"driver_standings\"]"
   ]
  },
  {
   "cell_type": "code",
   "execution_count": 46,
   "metadata": {},
   "outputs": [
    {
     "name": "stdout",
     "output_type": "stream",
     "text": [
      "DROPPING: seasons\n",
      "DROPPING: circuits\n",
      "DROPPING: constructors\n",
      "DROPPING: races\n",
      "DROPPING: drivers\n",
      "DROPPING: status\n",
      "DROPPING: constructor_results\n",
      "DROPPING: constructor_standings\n",
      "DROPPING: lap_times\n",
      "DROPPING: pit_stops\n",
      "DROPPING: qualifying\n",
      "DROPPING: results\n",
      "DROPPING: driver_standings\n"
     ]
    }
   ],
   "source": [
    "# Delete everything!\n",
    "cursor = conn.cursor()\n",
    "for table in TABLES:\n",
    "    print(f\"DROPPING: {table}\")\n",
    "    cursor.execute(f\"DROP TABLE {table} CASCADE\")\n"
   ]
  },
  {
   "cell_type": "code",
   "execution_count": 47,
   "metadata": {},
   "outputs": [],
   "source": [
    "# Create tables and relations\n",
    "with conn.cursor() as curs:\n",
    "    curs.execute(open(f\"{REPO_ROOT}/database-ddl-commands.ddl\", \"r\").read())"
   ]
  },
  {
   "cell_type": "code",
   "execution_count": 49,
   "metadata": {},
   "outputs": [
    {
     "name": "stdout",
     "output_type": "stream",
     "text": [
      "INSERTING: seasons\n",
      "\n",
      "        COPY seasons\n",
      "        FROM '/Users/chris.gervang/code/f1-track-models/ergast-database-csv/seasons.csv' \n",
      "        DELIMITER ','\n",
      "        CSV HEADER;\n",
      "        \n",
      "None\n",
      "(2009, 'https://en.wikipedia.org/wiki/2009_Formula_One_season')\n",
      "INSERTING: circuits\n",
      "\n",
      "        COPY circuits\n",
      "        FROM '/Users/chris.gervang/code/f1-track-models/ergast-database-csv/circuits.csv' \n",
      "        DELIMITER ','\n",
      "        CSV HEADER;\n",
      "        \n",
      "None\n",
      "(1, 'albert_park', 'Albert Park Grand Prix Circuit', 'Melbourne', 'Australia', -37.8497, 144.968, 10.0, 'http://en.wikipedia.org/wiki/Melbourne_Grand_Prix_Circuit')\n",
      "INSERTING: constructors\n",
      "\n",
      "        COPY constructors\n",
      "        FROM '/Users/chris.gervang/code/f1-track-models/ergast-database-csv/constructors.csv' \n",
      "        DELIMITER ','\n",
      "        CSV HEADER;\n",
      "        \n",
      "None\n",
      "(1, 'mclaren', 'McLaren', 'British', 'http://en.wikipedia.org/wiki/McLaren')\n",
      "INSERTING: races\n",
      "\n",
      "        COPY races\n",
      "        FROM '/Users/chris.gervang/code/f1-track-models/ergast-database-csv/races.csv' \n",
      "        DELIMITER ','\n",
      "        CSV HEADER;\n",
      "        \n",
      "None\n",
      "(1, 2009, 1, 1, 'Australian Grand Prix', datetime.date(2009, 3, 29), datetime.time(6, 0), 'http://en.wikipedia.org/wiki/2009_Australian_Grand_Prix')\n",
      "INSERTING: drivers\n",
      "\n",
      "        COPY drivers\n",
      "        FROM '/Users/chris.gervang/code/f1-track-models/ergast-database-csv/drivers.csv' \n",
      "        DELIMITER ','\n",
      "        CSV HEADER;\n",
      "        \n",
      "None\n",
      "(1, 'hamilton', 44, 'HAM', 'Lewis', 'Hamilton', datetime.date(1985, 1, 7), 'British', 'http://en.wikipedia.org/wiki/Lewis_Hamilton')\n",
      "INSERTING: status\n",
      "\n",
      "        COPY status\n",
      "        FROM '/Users/chris.gervang/code/f1-track-models/ergast-database-csv/status.csv' \n",
      "        DELIMITER ','\n",
      "        CSV HEADER;\n",
      "        \n",
      "None\n",
      "(1, 'Finished')\n",
      "INSERTING: constructor_results\n",
      "\n",
      "        COPY constructor_results\n",
      "        FROM '/Users/chris.gervang/code/f1-track-models/ergast-database-csv/constructor_results.csv' \n",
      "        DELIMITER ','\n",
      "        CSV HEADER;\n",
      "        \n",
      "None\n",
      "(1, 18, 1, 14.0, None)\n",
      "INSERTING: constructor_standings\n",
      "\n",
      "        COPY constructor_standings\n",
      "        FROM '/Users/chris.gervang/code/f1-track-models/ergast-database-csv/constructor_standings.csv' \n",
      "        DELIMITER ','\n",
      "        CSV HEADER;\n",
      "        \n",
      "None\n",
      "(1, 18, 1, 14.0, 1, '1', 1)\n",
      "INSERTING: lap_times\n",
      "\n",
      "        COPY lap_times\n",
      "        FROM '/Users/chris.gervang/code/f1-track-models/ergast-database-csv/lap_times.csv' \n",
      "        DELIMITER ','\n",
      "        CSV HEADER;\n",
      "        \n",
      "None\n",
      "(841, 20, 1, 1, datetime.time(0, 1, 38, 109000), 98109)\n",
      "INSERTING: pit_stops\n",
      "\n",
      "        COPY pit_stops\n",
      "        FROM '/Users/chris.gervang/code/f1-track-models/ergast-database-csv/pit_stops.csv' \n",
      "        DELIMITER ','\n",
      "        CSV HEADER;\n",
      "        \n",
      "None\n",
      "(841, 153, 1, 1, datetime.time(17, 5, 23), '26.898', 26898)\n",
      "INSERTING: qualifying\n",
      "\n",
      "        COPY qualifying\n",
      "        FROM '/Users/chris.gervang/code/f1-track-models/ergast-database-csv/qualifying.csv' \n",
      "        DELIMITER ','\n",
      "        CSV HEADER;\n",
      "        \n"
     ]
    },
    {
     "ename": "InvalidDatetimeFormat",
     "evalue": "invalid input syntax for type time: \"\"\nCONTEXT:  COPY qualifying, line 3882, column q2: \"\"\n",
     "output_type": "error",
     "traceback": [
      "\u001b[0;31m---------------------------------------------------------------------------\u001b[0m",
      "\u001b[0;31mInvalidDatetimeFormat\u001b[0m                     Traceback (most recent call last)",
      "\u001b[1;32m/Users/chris.gervang/code/f1-track-models/race_processor/race_processor/create_tables.ipynb Cell 6'\u001b[0m in \u001b[0;36m<cell line: 2>\u001b[0;34m()\u001b[0m\n\u001b[1;32m      <a href='vscode-notebook-cell:/Users/chris.gervang/code/f1-track-models/race_processor/race_processor/create_tables.ipynb#ch0000003?line=3'>4</a>\u001b[0m sql_copy \u001b[39m=\u001b[39m \u001b[39mf\u001b[39m\u001b[39m'''\u001b[39m\n\u001b[1;32m      <a href='vscode-notebook-cell:/Users/chris.gervang/code/f1-track-models/race_processor/race_processor/create_tables.ipynb#ch0000003?line=4'>5</a>\u001b[0m \u001b[39m    COPY \u001b[39m\u001b[39m{\u001b[39;00mtable\u001b[39m}\u001b[39;00m\n\u001b[1;32m      <a href='vscode-notebook-cell:/Users/chris.gervang/code/f1-track-models/race_processor/race_processor/create_tables.ipynb#ch0000003?line=5'>6</a>\u001b[0m \u001b[39m    FROM \u001b[39m\u001b[39m'\u001b[39m\u001b[39m{\u001b[39;00mREPO_ROOT\u001b[39m}\u001b[39;00m\u001b[39m/ergast-database-csv/\u001b[39m\u001b[39m{\u001b[39;00mtable\u001b[39m}\u001b[39;00m\u001b[39m.csv\u001b[39m\u001b[39m'\u001b[39m\u001b[39m \u001b[39m\n\u001b[1;32m      <a href='vscode-notebook-cell:/Users/chris.gervang/code/f1-track-models/race_processor/race_processor/create_tables.ipynb#ch0000003?line=6'>7</a>\u001b[0m \u001b[39m    DELIMITER \u001b[39m\u001b[39m'\u001b[39m\u001b[39m,\u001b[39m\u001b[39m'\u001b[39m\n\u001b[1;32m      <a href='vscode-notebook-cell:/Users/chris.gervang/code/f1-track-models/race_processor/race_processor/create_tables.ipynb#ch0000003?line=7'>8</a>\u001b[0m \u001b[39m    CSV HEADER;\u001b[39m\n\u001b[1;32m      <a href='vscode-notebook-cell:/Users/chris.gervang/code/f1-track-models/race_processor/race_processor/create_tables.ipynb#ch0000003?line=8'>9</a>\u001b[0m \u001b[39m    \u001b[39m\u001b[39m'''\u001b[39m\n\u001b[1;32m     <a href='vscode-notebook-cell:/Users/chris.gervang/code/f1-track-models/race_processor/race_processor/create_tables.ipynb#ch0000003?line=9'>10</a>\u001b[0m \u001b[39mprint\u001b[39m(sql_copy)\n\u001b[0;32m---> <a href='vscode-notebook-cell:/Users/chris.gervang/code/f1-track-models/race_processor/race_processor/create_tables.ipynb#ch0000003?line=10'>11</a>\u001b[0m \u001b[39mprint\u001b[39m(cursor\u001b[39m.\u001b[39;49mexecute(sql_copy))\n\u001b[1;32m     <a href='vscode-notebook-cell:/Users/chris.gervang/code/f1-track-models/race_processor/race_processor/create_tables.ipynb#ch0000003?line=11'>12</a>\u001b[0m cursor\u001b[39m.\u001b[39mexecute(\u001b[39mf\u001b[39m\u001b[39m\"\u001b[39m\u001b[39mSELECT * FROM \u001b[39m\u001b[39m{\u001b[39;00mtable\u001b[39m}\u001b[39;00m\u001b[39m LIMIT 1;\u001b[39m\u001b[39m\"\u001b[39m)\n\u001b[1;32m     <a href='vscode-notebook-cell:/Users/chris.gervang/code/f1-track-models/race_processor/race_processor/create_tables.ipynb#ch0000003?line=12'>13</a>\u001b[0m \u001b[39mprint\u001b[39m(cursor\u001b[39m.\u001b[39mfetchone())\n",
      "\u001b[0;31mInvalidDatetimeFormat\u001b[0m: invalid input syntax for type time: \"\"\nCONTEXT:  COPY qualifying, line 3882, column q2: \"\"\n"
     ]
    }
   ],
   "source": [
    "# Fill the tables with data\n",
    "for table in TABLES:\n",
    "    print(f\"INSERTING: {table}\")\n",
    "    sql_copy = f'''\n",
    "        COPY {table}\n",
    "        FROM '{REPO_ROOT}/ergast-database-csv/{table}.csv' \n",
    "        DELIMITER ','\n",
    "        CSV HEADER;\n",
    "        '''\n",
    "    print(sql_copy)\n",
    "    print(cursor.execute(sql_copy))\n",
    "    cursor.execute(f\"SELECT * FROM {table} LIMIT 1;\")\n",
    "    print(cursor.fetchone())"
   ]
  },
  {
   "cell_type": "code",
   "execution_count": null,
   "metadata": {},
   "outputs": [],
   "source": []
  }
 ],
 "metadata": {
  "interpreter": {
   "hash": "f5fe703e516d0ac3dbe1cffcfc446a1d1243199c9d8417cc9d555c814e7afe44"
  },
  "kernelspec": {
   "display_name": "Python 3.9.10 ('env': venv)",
   "language": "python",
   "name": "python3"
  },
  "language_info": {
   "codemirror_mode": {
    "name": "ipython",
    "version": 3
   },
   "file_extension": ".py",
   "mimetype": "text/x-python",
   "name": "python",
   "nbconvert_exporter": "python",
   "pygments_lexer": "ipython3",
   "version": "3.9.12"
  },
  "orig_nbformat": 4
 },
 "nbformat": 4,
 "nbformat_minor": 2
}
