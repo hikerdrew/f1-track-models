{
 "cells": [
  {
   "cell_type": "code",
   "execution_count": 2,
   "metadata": {},
   "outputs": [],
   "source": [
    "import psycopg2\n",
    "from psycopg2.extensions import ISOLATION_LEVEL_AUTOCOMMIT\n",
    "from jupyter import REPO_ROOT\n",
    "import os\n",
    "import pwd"
   ]
  },
  {
   "cell_type": "code",
   "execution_count": 3,
   "metadata": {},
   "outputs": [],
   "source": [
    "DB_NAME   = \"ergast_f1_stats\""
   ]
  },
  {
   "cell_type": "code",
   "execution_count": 4,
   "metadata": {},
   "outputs": [],
   "source": [
    "def get_username():\n",
    "    return pwd.getpwuid( os.getuid() )[ 0 ]"
   ]
  },
  {
   "cell_type": "code",
   "execution_count": 5,
   "metadata": {},
   "outputs": [],
   "source": [
    "conn = psycopg2.connect(\n",
    "    database=  get_username(),\n",
    "    user = get_username(),\n",
    "    host = 'localhost',\n",
    "    port = '5432'\n",
    ")\n",
    "conn.set_isolation_level(ISOLATION_LEVEL_AUTOCOMMIT)"
   ]
  },
  {
   "cell_type": "code",
   "execution_count": 6,
   "metadata": {},
   "outputs": [],
   "source": [
    "# Create DB statement\n",
    "sql_create_db = f\"CREATE DATABASE {DB_NAME}\"\n",
    "\n",
    "# Create a DB in PostgreSQL database\n",
    "with conn.cursor() as curs:\n",
    "    curs.execute(sql_create_db)"
   ]
  }
 ],
 "metadata": {
  "kernelspec": {
   "display_name": "Python 3.9.12 ('env': venv)",
   "language": "python",
   "name": "python3"
  },
  "language_info": {
   "codemirror_mode": {
    "name": "ipython",
    "version": 3
   },
   "file_extension": ".py",
   "mimetype": "text/x-python",
   "name": "python",
   "nbconvert_exporter": "python",
   "pygments_lexer": "ipython3",
   "version": "3.9.12"
  },
  "orig_nbformat": 4,
  "vscode": {
   "interpreter": {
    "hash": "a669e8fb91ece81c85935ded66a18971411c4304d71dc9e3586d1bdca28f36d3"
   }
  }
 },
 "nbformat": 4,
 "nbformat_minor": 2
}
