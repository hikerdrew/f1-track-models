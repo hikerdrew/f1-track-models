{
 "cells": [
  {
   "cell_type": "code",
   "execution_count": 1,
   "metadata": {},
   "outputs": [],
   "source": [
    "import psycopg2\n",
    "from psycopg2.extensions import ISOLATION_LEVEL_AUTOCOMMIT\n",
    "from jupyter import REPO_ROOT"
   ]
  },
  {
   "cell_type": "code",
   "execution_count": 5,
   "metadata": {},
   "outputs": [],
   "source": [
    "DB_NAME   = \"ergast_f1_stats\""
   ]
  },
  {
   "cell_type": "code",
   "execution_count": 6,
   "metadata": {},
   "outputs": [],
   "source": [
    "conn = psycopg2.connect(\n",
    "    database=\"postgres\",\n",
    "    user='postgres',\n",
    "    password='password',\n",
    "    host='localhost',\n",
    "    port= '5432'\n",
    ")\n",
    "conn.set_isolation_level(ISOLATION_LEVEL_AUTOCOMMIT)"
   ]
  },
  {
   "cell_type": "code",
   "execution_count": 15,
   "metadata": {},
   "outputs": [
    {
     "ename": "DuplicateDatabase",
     "evalue": "database \"ergast_f1_stats\" already exists\n",
     "output_type": "error",
     "traceback": [
      "\u001b[0;31m---------------------------------------------------------------------------\u001b[0m",
      "\u001b[0;31mDuplicateDatabase\u001b[0m                         Traceback (most recent call last)",
      "\u001b[1;32mUntitled-1.ipynb Cell 5'\u001b[0m in \u001b[0;36m<cell line: 5>\u001b[0;34m()\u001b[0m\n\u001b[1;32m      <a href='vscode-notebook-cell:Untitled-1.ipynb?jupyter-notebook#ch0000003untitled?line=3'>4</a>\u001b[0m \u001b[39m# Create a DB in PostgreSQL database\u001b[39;00m\n\u001b[1;32m      <a href='vscode-notebook-cell:Untitled-1.ipynb?jupyter-notebook#ch0000003untitled?line=4'>5</a>\u001b[0m \u001b[39mwith\u001b[39;00m conn\u001b[39m.\u001b[39mcursor() \u001b[39mas\u001b[39;00m curs:\n\u001b[0;32m----> <a href='vscode-notebook-cell:Untitled-1.ipynb?jupyter-notebook#ch0000003untitled?line=5'>6</a>\u001b[0m     curs\u001b[39m.\u001b[39;49mexecute(sql_create_db)\n",
      "\u001b[0;31mDuplicateDatabase\u001b[0m: database \"ergast_f1_stats\" already exists\n"
     ]
    }
   ],
   "source": [
    "# Create DB statement\n",
    "sql_create_db = f\"CREATE DATABASE {DB_NAME}\"\n",
    "\n",
    "# Create a DB in PostgreSQL database\n",
    "with conn.cursor() as curs:\n",
    "    curs.execute(sql_create_db)"
   ]
  }
 ],
 "metadata": {
  "interpreter": {
   "hash": "f5fe703e516d0ac3dbe1cffcfc446a1d1243199c9d8417cc9d555c814e7afe44"
  },
  "kernelspec": {
   "display_name": "Python 3.9.10 ('env': venv)",
   "language": "python",
   "name": "python3"
  },
  "language_info": {
   "codemirror_mode": {
    "name": "ipython",
    "version": 3
   },
   "file_extension": ".py",
   "mimetype": "text/x-python",
   "name": "python",
   "nbconvert_exporter": "python",
   "pygments_lexer": "ipython3",
   "version": "3.9.12"
  },
  "orig_nbformat": 4
 },
 "nbformat": 4,
 "nbformat_minor": 2
}
